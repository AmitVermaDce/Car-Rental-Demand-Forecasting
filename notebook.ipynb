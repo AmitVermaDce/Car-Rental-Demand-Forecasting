{
 "cells": [
  {
   "cell_type": "code",
   "execution_count": null,
   "id": "6a18adad",
   "metadata": {},
   "outputs": [],
   "source": [
    "import numpy as np\n",
    "import pandas as pd\n",
    "import matplotlib.pyplot as plt\n",
    "import seaborn as sns\n",
    "sns.set_context(\"notebook\", font_scale=1.25)\n",
    "import optuna\n",
    "from IPython.core.display import HTML,display\n",
    "optuna.logging.set_verbosity(optuna.logging.WARNING)\n",
    "from optuna.visualization import plot_param_importances\n",
    "import lightgbm as lgb\n",
    "from sklearn.metrics import mean_squared_error"
   ]
  },
  {
   "cell_type": "code",
   "execution_count": null,
   "id": "98e8e7ab",
   "metadata": {},
   "outputs": [],
   "source": [
    "df = pd.read_csv('./dataset/train_E1GspfA.csv')\n",
    "test_df = pd.read_csv('./dataset/test_6QvDdzb.csv')\n",
    "df"
   ]
  },
  {
   "cell_type": "markdown",
   "id": "568db0e0",
   "metadata": {},
   "source": [
    "## checking the number of rows"
   ]
  },
  {
   "cell_type": "code",
   "execution_count": null,
   "id": "74dae1e7",
   "metadata": {},
   "outputs": [],
   "source": [
    "print(f\"There are {df.shape[0]} rows and {df.shape[1]} columns in the Training set\")\n",
    "print(f\"There are {test_df.shape[0]} rows and {test_df.shape[1]} columns in the Test set\")"
   ]
  },
  {
   "cell_type": "markdown",
   "id": "57f57b9d",
   "metadata": {},
   "source": [
    "## Datatype of the data"
   ]
  },
  {
   "cell_type": "code",
   "execution_count": null,
   "id": "7cefce14",
   "metadata": {},
   "outputs": [],
   "source": [
    "df.dtypes"
   ]
  },
  {
   "cell_type": "code",
   "execution_count": null,
   "id": "c1996f57",
   "metadata": {},
   "outputs": [],
   "source": [
    "df.date = pd.to_datetime(df.date)\n",
    "test_df.date = pd.to_datetime(test_df.date)"
   ]
  },
  {
   "cell_type": "code",
   "execution_count": null,
   "id": "7dd8883d",
   "metadata": {},
   "outputs": [],
   "source": [
    "df.dtypes"
   ]
  },
  {
   "cell_type": "code",
   "execution_count": null,
   "id": "dac6156d",
   "metadata": {},
   "outputs": [],
   "source": [
    "df.dtypes"
   ]
  },
  {
   "cell_type": "markdown",
   "id": "bca5a52f",
   "metadata": {},
   "source": [
    "## Visualizing the Training Data"
   ]
  },
  {
   "cell_type": "code",
   "execution_count": null,
   "id": "d0cf214a",
   "metadata": {},
   "outputs": [],
   "source": [
    "# On complete data\n",
    "\n",
    "plt.figure(figsize=(20,7))\n",
    "sns.lineplot(data=df, x='date', y='demand', color='red', lw=2)\n",
    "plt.show()"
   ]
  },
  {
   "cell_type": "code",
   "execution_count": null,
   "id": "f04caa9b",
   "metadata": {},
   "outputs": [],
   "source": [
    "# On one year data\n",
    "\n",
    "one_year_df = df.loc[(df.date>=pd.to_datetime('2019-01-01')) & (df.date<pd.to_datetime('2020-01-01'))]\n",
    "plt.figure(figsize=(10,7))\n",
    "sns.lineplot(data=one_year_df, x='date', y='demand', color='red', lw=2)\n",
    "plt.show()"
   ]
  },
  {
   "cell_type": "code",
   "execution_count": null,
   "id": "d3e9cd18",
   "metadata": {},
   "outputs": [],
   "source": [
    "# On one month training data\n",
    "\n",
    "one_month_df = df.loc[(df.date>=pd.to_datetime('2019-01-01')) & (df.date<pd.to_datetime('2019-02-01'))]\n",
    "plt.figure(figsize=(20,7))\n",
    "sns.lineplot(data=one_month_df, x='date', y='demand', lw=2, color='red')\n",
    "plt.show()"
   ]
  },
  {
   "cell_type": "code",
   "execution_count": null,
   "id": "591b056f",
   "metadata": {},
   "outputs": [],
   "source": [
    "# On two months training data\n",
    "\n",
    "two_months_df = df.loc[(df.date>=pd.to_datetime('2019-01-01')) & (df.date<pd.to_datetime('2019-03-01'))]\n",
    "plt.figure(figsize=(20,7))\n",
    "sns.lineplot(data=two_months_df, x='date', y='demand', lw=2, color='red')\n",
    "plt.show()"
   ]
  },
  {
   "cell_type": "code",
   "execution_count": null,
   "id": "3a8e7402",
   "metadata": {},
   "outputs": [],
   "source": [
    "# On day training data\n",
    "\n",
    "one_day_df = df.loc[(df.date>=pd.to_datetime('2019-01-01')) & (df.date<pd.to_datetime('2019-01-02'))]\n",
    "plt.figure(figsize=(20,7))\n",
    "sns.lineplot(data=one_day_df, x='hour', y='demand', lw=2, color='red')\n",
    "plt.show()"
   ]
  },
  {
   "cell_type": "markdown",
   "id": "85ed0db8",
   "metadata": {},
   "source": [
    "## Decomposing Date Features"
   ]
  },
  {
   "cell_type": "code",
   "execution_count": null,
   "id": "c9d8bc6b",
   "metadata": {},
   "outputs": [],
   "source": [
    "# Training dataset\n",
    "df['year'] = df.date.dt.year\n",
    "df['month'] = df.date.dt.month\n",
    "df['day'] = df.date.dt.day\n",
    "df['week_of_year'] = (df.date.dt.isocalendar().week).astype(int)\n",
    "df['day_of_week'] = df.date.dt.weekday\n",
    "df['quarter'] = df.date.dt.quarter\n",
    "\n",
    "# Test dataset\n",
    "test_df['year'] = test_df.date.dt.year\n",
    "test_df['month'] = test_df.date.dt.month\n",
    "test_df['day'] = test_df.date.dt.day\n",
    "test_df['week_of_day'] = test_df.date.dt.isocalendar().week\n",
    "test_df['day_of_week'] = test_df.date.dt.weekday\n",
    "test_df['quarter'] = test_df.date.dt.quarter\n",
    "df"
   ]
  },
  {
   "cell_type": "markdown",
   "id": "0ed68e5e",
   "metadata": {},
   "source": [
    "## Grouping Demands by month"
   ]
  },
  {
   "cell_type": "code",
   "execution_count": null,
   "id": "199bcc5a",
   "metadata": {},
   "outputs": [],
   "source": [
    "plt.figure(figsize=(20,7))\n",
    "temp1 = df.groupby('month')['demand'].mean().reset_index()\n",
    "temp2 = df.groupby('month')['demand'].median().reset_index()\n",
    "plt.subplot(1,2,1)\n",
    "sns.barplot(data=temp1, x='month', y='demand', palette='Set1')\n",
    "plt.title('Mean')\n",
    "plt.subplot(1,2,2)\n",
    "sns.barplot(data=temp2, x='month', y='demand', palette = 'Set1')\n",
    "plt.title('Median')\n",
    "plt.show()\n"
   ]
  },
  {
   "cell_type": "markdown",
   "id": "de554ff1",
   "metadata": {},
   "source": [
    "#### Inference: The month of November has higher demand as compared to other month of the year."
   ]
  },
  {
   "cell_type": "code",
   "execution_count": null,
   "id": "fda2dfd4",
   "metadata": {},
   "outputs": [],
   "source": [
    "df['is_november'] = (df.month==11).astype(int)\n",
    "test_df['is_novemver'] = (test_df.month==11).astype(int)\n",
    "test_df"
   ]
  },
  {
   "cell_type": "markdown",
   "id": "85ffbe9b",
   "metadata": {},
   "source": [
    "## Grouping Demands by hour\n"
   ]
  },
  {
   "cell_type": "code",
   "execution_count": null,
   "id": "14a2fd9b",
   "metadata": {},
   "outputs": [],
   "source": [
    "plt.figure(figsize=(20,7))\n",
    "temp1 = df.groupby('hour')['demand'].mean().reset_index()\n",
    "temp2 = df.groupby('hour')['demand'].median().reset_index()\n",
    "plt.subplot(1,2,1)\n",
    "sns.barplot(data=temp1, x='hour', y='demand', palette='Set1')\n",
    "plt.title('Mean')\n",
    "plt.subplot(1,2,2)\n",
    "sns.barplot(data=temp2, x='hour',y='demand', palette='Set1')\n",
    "plt.title('Median')\n",
    "plt.tight_layout()\n",
    "plt.show()"
   ]
  },
  {
   "cell_type": "markdown",
   "id": "eeada9e3",
   "metadata": {},
   "source": [
    "#### Inference: We can observe that hours from 7 to 22 have higher demand as compared to other hours of the day. "
   ]
  },
  {
   "cell_type": "markdown",
   "id": "2f32ccc0",
   "metadata": {},
   "source": [
    "## Adding Peak hours features"
   ]
  },
  {
   "cell_type": "code",
   "execution_count": null,
   "id": "fe39c66a",
   "metadata": {},
   "outputs": [],
   "source": [
    "df['peak_hours'] = ((df['hour']>=7)&(df['hour']<=22)).astype(int)\n",
    "test_df['peak_hours'] = ((test_df['hour']>=7)&(test_df['hour']<=22)).astype(int)\n",
    "test_df"
   ]
  },
  {
   "cell_type": "markdown",
   "id": "2424787f",
   "metadata": {},
   "source": [
    "## Grouping demands by year"
   ]
  },
  {
   "cell_type": "code",
   "execution_count": null,
   "id": "90613a3d",
   "metadata": {},
   "outputs": [],
   "source": [
    "plt.figure(figsize=(20,7))\n",
    "temp1 = df.groupby('year')['demand'].mean().reset_index()\n",
    "temp2 = df.groupby('year')['demand'].median().reset_index()\n",
    "plt.subplot(1,2,1)\n",
    "sns.barplot(data=temp1, x='year', y='demand', palette='Set1')\n",
    "plt.title('mean')\n",
    "plt.subplot(1,2,2)\n",
    "sns.barplot(data=temp2, x='year', y='demand', palette='Set2')\n",
    "plt.title('median')\n",
    "plt.show()\n"
   ]
  },
  {
   "cell_type": "markdown",
   "id": "ec1d1ef3",
   "metadata": {},
   "source": [
    "### Inference: We can observe demand goes on increasing every year\n"
   ]
  },
  {
   "cell_type": "code",
   "execution_count": null,
   "id": "6a01310d",
   "metadata": {},
   "outputs": [],
   "source": [
    "df['year_code']= df.year - 2017\n",
    "test_df['year_code'] = test_df.year - 2017"
   ]
  },
  {
   "cell_type": "markdown",
   "id": "d596628b",
   "metadata": {},
   "source": [
    "## Grouping demand by quarters"
   ]
  },
  {
   "cell_type": "code",
   "execution_count": null,
   "id": "e7ebbe64",
   "metadata": {},
   "outputs": [],
   "source": [
    "plt.figure(figsize=(20,7))\n",
    "temp1 = df.groupby('quarter')['demand'].mean().reset_index()\n",
    "temp2 = df.groupby('quarter')['demand'].median().reset_index()\n",
    "plt.subplot(1,2,1)\n",
    "sns.barplot(data=temp1, x='quarter', y='demand', palette='Set1')\n",
    "plt.title('mean')\n",
    "plt.subplot(1,2,2)\n",
    "sns.barplot(data=temp2, x='quarter', y='demand', palette='Set2')\n",
    "plt.title('median')\n",
    "plt.show()\n"
   ]
  },
  {
   "cell_type": "markdown",
   "id": "6f9d5da2",
   "metadata": {},
   "source": [
    "### Inference: Quarter 3 has lower demand as compared to other quarters"
   ]
  },
  {
   "cell_type": "code",
   "execution_count": null,
   "id": "dcbd66c2",
   "metadata": {},
   "outputs": [],
   "source": [
    "df['is_quarter_three'] = (df.quarter == 3).astype(int)\n",
    "test_df['is_quarter_three'] = (test_df.quarter == 3).astype(int)\n",
    "test_df"
   ]
  },
  {
   "cell_type": "markdown",
   "id": "60cb0438",
   "metadata": {},
   "source": [
    "## Grouping demands by week of the year"
   ]
  },
  {
   "cell_type": "code",
   "execution_count": null,
   "id": "a42c9d65",
   "metadata": {},
   "outputs": [],
   "source": [
    "plt.figure(figsize=(20,7))\n",
    "temp1 = df.groupby('day_of_week')['demand'].mean().reset_index()\n",
    "temp2 = df.groupby('day_of_week')['demand'].median().reset_index()\n",
    "plt.subplot(1,2,1)\n",
    "sns.barplot(data=temp1, x='day_of_week', y='demand', palette='Set1')\n",
    "plt.title('mean')\n",
    "plt.subplot(1,2,2)\n",
    "sns.barplot(data=temp2, x='day_of_week', y='demand', palette='Set2')\n",
    "plt.title('median')\n",
    "plt.show()"
   ]
  },
  {
   "cell_type": "markdown",
   "id": "fc89992c",
   "metadata": {},
   "source": [
    "### Inference: Friday, Saturday and Sunday have high demand"
   ]
  },
  {
   "cell_type": "markdown",
   "id": "31aff55f",
   "metadata": {},
   "source": [
    "# Validation Set"
   ]
  },
  {
   "cell_type": "code",
   "execution_count": null,
   "id": "5a07874a",
   "metadata": {},
   "outputs": [],
   "source": [
    "# Compute 20% of samples\n",
    "df.shape[0]*0.2"
   ]
  },
  {
   "cell_type": "code",
   "execution_count": null,
   "id": "cd6b87e5",
   "metadata": {},
   "outputs": [],
   "source": [
    "val = df.iloc[:3650]\n",
    "train = df.iloc[3650:]"
   ]
  },
  {
   "cell_type": "code",
   "execution_count": null,
   "id": "8c9edd23",
   "metadata": {},
   "outputs": [],
   "source": [
    "print(f\"There are {train.shape[0]} rows and {train.shape[1]} columns in the Training set\")\n",
    "print(f\"There are {val.shape[0]} rows and {val.shape[1]} columns in the validation set\")"
   ]
  },
  {
   "cell_type": "code",
   "execution_count": null,
   "id": "ebd5780c",
   "metadata": {},
   "outputs": [],
   "source": [
    "xtrain=train.drop(columns=['demand','year','date','quarter']) #quartor feature is dropped as is_quartor_three feature will carry the info.\n",
    "ytrain=train['demand']\n",
    "\n",
    "xval=val.drop(columns=['year','demand','date','quarter']) #quartor feature is dropped as is_quartor_three feature will carry the info.\n",
    "yval=val['demand']\n",
    "\n",
    "test_df.drop(columns=['date','year','quarter'],inplace=True)"
   ]
  },
  {
   "cell_type": "markdown",
   "id": "5f36c8eb",
   "metadata": {},
   "source": [
    "# Modelling"
   ]
  },
  {
   "cell_type": "code",
   "execution_count": null,
   "id": "e991f40b",
   "metadata": {},
   "outputs": [],
   "source": [
    "model = lgb.LGBMRegressor(learning_rate = 0.01, n_estimators=3000)\n",
    "model.fit(\n",
    "    xtrain.values, ytrain,\n",
    "    eval_set = [(xval.values, yval)],\n",
    "    eval_metric = 'rmse',\n",
    "    callbacks = [lgb.early_stopping(100)]    \n",
    ")"
   ]
  },
  {
   "cell_type": "code",
   "execution_count": null,
   "id": "d6faa0fb",
   "metadata": {},
   "outputs": [],
   "source": [
    "display(HTML(f\"<h3> <b style='color:#673AB7;font-size:22px;'>This model gave rmse: <b style='color:red;'>{model.best_score_['valid_0']['rmse']:0.4F}</b></h3>\"))"
   ]
  },
  {
   "cell_type": "code",
   "execution_count": null,
   "id": "4868e849",
   "metadata": {},
   "outputs": [],
   "source": [
    "def objective(trial):\n",
    "    \n",
    "    params = {\n",
    "    \n",
    "    'n_estimators':4000,\n",
    "    'num_leaves':trial.suggest_int('num_leaves',35,80),\n",
    "    'subsample':1,\n",
    "    'min_child_samples':trial.suggest_int(\"min_child_samples\",30,100),\n",
    "    'learning_rate':trial.suggest_categorical(\"learning_rate\",[0.001,0.01,0.03,0.05,0.07]),\n",
    "     'max_depth':trial.suggest_int(\"max_depth\",4,12),\n",
    "    'reg_alpha':trial.suggest_float('reg_alpha',0.0,50),\n",
    "    'reg_lambda':trial.suggest_float('reg_lambda',0.0,50),\n",
    "    \"min_split_gain\": trial.suggest_float(\"min_split_gain\", 0.0,20),\n",
    "    'subsample_freq' : trial.suggest_categorical(\"subsample_freq\", [1])\n",
    "        \n",
    "            }\n",
    "    \n",
    "    model=lgb.LGBMRegressor(**params)\n",
    "    model.fit(\n",
    "               xtrain.values,ytrain,\n",
    "               eval_set=[(xval.values,yval)],\n",
    "               eval_metric='rmse',\n",
    "               callbacks=[lgb.early_stopping(100,verbose=0)]\n",
    "        )\n",
    "    pred=model.predict(xval)\n",
    "    \n",
    "    score=mean_squared_error(yval,pred,squared=False)\n",
    "    \n",
    "    return score"
   ]
  },
  {
   "cell_type": "code",
   "execution_count": null,
   "id": "fd1c547f",
   "metadata": {},
   "outputs": [],
   "source": [
    "study = optuna.create_study(direction=\"minimize\")\n",
    "study.optimize(objective, n_trials=300,show_progress_bar=True)"
   ]
  },
  {
   "cell_type": "code",
   "execution_count": null,
   "id": "18629365",
   "metadata": {},
   "outputs": [],
   "source": [
    "trial = study.best_trial\n",
    "best_params_lgbm=trial.params\n",
    "study.best_value\n",
    "display(HTML(f\"<h3 style='color:#673AB7'>Best Params :<br><br><pre>{best_params_lgbm:}</h3>\"))"
   ]
  },
  {
   "cell_type": "code",
   "execution_count": null,
   "id": "1263a25c",
   "metadata": {},
   "outputs": [],
   "source": [
    "model=lgb.LGBMRegressor(**best_params_lgbm,n_estimators=4000)\n",
    "model.fit(\n",
    "               xtrain.values,ytrain,\n",
    "               eval_set=[(xval.values,yval)],\n",
    "               eval_metric='rmse',\n",
    "               callbacks=[lgb.early_stopping(100)]\n",
    "        )"
   ]
  },
  {
   "cell_type": "code",
   "execution_count": null,
   "id": "950eb7a6",
   "metadata": {},
   "outputs": [],
   "source": [
    "preds = model.predict(test_df.values)\n",
    "preds"
   ]
  },
  {
   "cell_type": "code",
   "execution_count": null,
   "id": "e6507530",
   "metadata": {},
   "outputs": [],
   "source": []
  }
 ],
 "metadata": {
  "kernelspec": {
   "display_name": "Python 3 (ipykernel)",
   "language": "python",
   "name": "python3"
  },
  "language_info": {
   "codemirror_mode": {
    "name": "ipython",
    "version": 3
   },
   "file_extension": ".py",
   "mimetype": "text/x-python",
   "name": "python",
   "nbconvert_exporter": "python",
   "pygments_lexer": "ipython3",
   "version": "3.9.12"
  }
 },
 "nbformat": 4,
 "nbformat_minor": 5
}
